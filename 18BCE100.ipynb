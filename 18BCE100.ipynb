{
 "cells": [
  {
   "cell_type": "markdown",
   "metadata": {},
   "source": [
    "## ROLL NUMBER :- <FONT COLOR = \"BLUE\">18BCE100</FONT>\n",
    "## NAME :- <FONT COLOR = \"BLUE\">FAIZAL SABIR KURESHI</FONT>\n",
    "## SEMESTER :-<FONT COLOR = \"BLUE\">4</FONT>\n",
    "## DIVISION :-<FONT COLOR = \"BLUE\">B</FONT>"
   ]
  },
  {
   "cell_type": "markdown",
   "metadata": {},
   "source": [
    "# <FONT COLOR = \"RED\"><CENTER>PSC ASSIGNMENT FOR SE</CENTER></FONT>"
   ]
  },
  {
   "cell_type": "markdown",
   "metadata": {},
   "source": [
    "## Q1)\n",
    "### <FONT COLOR = \"PURPLE\">Our main question here is about string encoding and decoding in given format so 1st we have created the required libraries to perform the task</FONT>"
   ]
  },
  {
   "cell_type": "code",
   "execution_count": 1,
   "metadata": {},
   "outputs": [],
   "source": [
    "#REQUIRED LIBRARIES\n",
    "import numpy as np \n",
    "import pandas as pd\n",
    "import matplotlib.pyplot as plt\n",
    "from collections import Counter"
   ]
  },
  {
   "cell_type": "markdown",
   "metadata": {},
   "source": [
    "### <FONT COLOR = \"PURPLE\">Here what have been done is that the value that is being read from the input file is checked wheather it is a string or not and accordingly true false value is returned and message is given</FONT>"
   ]
  },
  {
   "cell_type": "code",
   "execution_count": 2,
   "metadata": {},
   "outputs": [],
   "source": [
    "#STRING VALIDATION\n",
    "def isintstr(x):\n",
    "    try: \n",
    "        float(x)\n",
    "        return True\n",
    "    except ValueError:\n",
    "        return False"
   ]
  },
  {
   "cell_type": "code",
   "execution_count": 3,
   "metadata": {},
   "outputs": [],
   "source": [
    "#CHECKING OF INPUT VALUE OF FILE\n",
    "def check_list(L):\n",
    "    L=list(L)\n",
    "    return all((isinstance(el, str) and not isintstr(el) for el in L))"
   ]
  },
  {
   "cell_type": "markdown",
   "metadata": {},
   "source": [
    "## <FONT COLOR = \"black\"><center>Logic Of Encoding</center></FONT>\n",
    "### <FONT COLOR = \"PURPLE\"><ul type = \"disc\"><li>Whatever the value read from file and passed to encoded function is then sent sent to a while loop where it is running till the end of string.</li><li>Single alphabet is being stored in a variable.</li><li>Again a loop is being executed till end of string and checking if next alphabet is same as above or not.</li><li>Count variable maintaines the repetation of alphabets.</li><li>Finally the alphabet along with its count is appended in a variable and value is returned.</li></ul></FONT>"
   ]
  },
  {
   "cell_type": "code",
   "execution_count": 4,
   "metadata": {},
   "outputs": [],
   "source": [
    "#FUNCTION TO ENCODE THE INPUT STRING\n",
    "def encode(str_input): \n",
    "    encoded_string = \"\" \n",
    "    i = 0\n",
    "   \n",
    "    while (i <= len(str_input)-1): \n",
    "        count = 1\n",
    "        ch = str_input[i] \n",
    "        j = i \n",
    "        while (j < len(str_input)-1): \n",
    "            if (str_input[j] == str_input[j+1]): \n",
    "                count = count+1\n",
    "                j = j+1\n",
    "            else: \n",
    "                break\n",
    "        encoded_string=encoded_string+ch+str(count)\n",
    "        i = j+1\n",
    "    return encoded_string"
   ]
  },
  {
   "cell_type": "markdown",
   "metadata": {},
   "source": [
    "## Q2)\n",
    "# READING FILE STRING ALONG WITH EXCEPTIONAL HANDLING\n",
    "### <FONT COLOR = \"PURPLE\"><ul type=\"disc\"><li>User enters the file name in which Sting is stored.</li><li>In try block we have kept logic of reading from file and storing in a variable.This value is stored so thar we can further use in histogram.</li><li>Now we pass string to check wheather we have a valid String or not.</li><li>In except block  ValueError,IOError,TypeError are handled.</li><li>If string is qualified and everything is valid then String is sent to Encode Function and Encoded String is printed.</li></ul></FONT>"
   ]
  },
  {
   "cell_type": "code",
   "execution_count": 5,
   "metadata": {},
   "outputs": [
    {
     "name": "stdout",
     "output_type": "stream",
     "text": [
      "Enter the input file\n",
      "input.txt\n",
      "wwwwaaadexxxxxx\n",
      "********************************************************************************\n",
      "******************************************\n",
      "**********************\n",
      "Encoded String Is: w4a3d1e1x6\n"
     ]
    }
   ],
   "source": [
    "#READING FILE STRING ALONG WITH EXCEPTIONAL HANDLING\n",
    "finame=input('Enter the input file\\n')\n",
    "           \n",
    "try:\n",
    "    with open(finame) as myfile:\n",
    "        a=\"\".join(line.rstrip() for line in myfile)\n",
    "        print(a)\n",
    "        print('********************************************************************************')\n",
    "        print('******************************************')\n",
    "        print('**********************')\n",
    "    if(check_list(a)==True):\n",
    "        x=encode(a)\n",
    "        print('Encoded String Is:',x)\n",
    "        \n",
    "    else:\n",
    "        print(\"Entered Element Is Not A String\")\n",
    "except ValueError:\n",
    "    print('Entered Element Is Not A String \\nRETRY!!!')\n",
    "except IOError:\n",
    "    print('There Is No File Named', finame)\n",
    "except TypeError:\n",
    "    print('The Entered File is Empty')"
   ]
  },
  {
   "cell_type": "markdown",
   "metadata": {},
   "source": [
    "### <FONT COLOR = \"PURPLE\">This Decode Function helps to Revert back to original string as read from input file.Here we have both char and number so they are found and multiplied to get that many alphabets.</FONT>"
   ]
  },
  {
   "cell_type": "code",
   "execution_count": 6,
   "metadata": {},
   "outputs": [],
   "source": [
    "#FUNCTION TO DECODE ENCODED STRING\n",
    "import re\n",
    "def decode(text):\n",
    "    for (char, num) in re.findall(r'([a-z])([0-9]+)', text):\n",
    "        yield char * int(num)"
   ]
  },
  {
   "cell_type": "markdown",
   "metadata": {},
   "source": [
    "## Q3)\n",
    "# PASSING ENCODED STRING TO OUTPUT FILE AND DECODING BACK\n",
    "### <FONT COLOR = \"PURPLE\"><ul type=\"disc\"><li>User enters the Output FileName and opens in write mode and the encoded value is passed.</li><li>We reopen the output file to chech if encoded value is stored or not.</li><li>Now we once again read String from Output File and send to decode function to decode it.</li><li>The decoded value is returned and printed.</li></ul></FONT>"
   ]
  },
  {
   "cell_type": "code",
   "execution_count": 7,
   "metadata": {},
   "outputs": [
    {
     "name": "stdout",
     "output_type": "stream",
     "text": [
      "Encoded String Is: w4a3d1e1x6\n",
      "Enter The Output FileName In Which You Want To Store Encoded Value:\n",
      "output.txt\n",
      "w4a3d1e1x6\n",
      "Inserted Encoded Value Successfully to output.txt\n",
      "********************************************************************************\n",
      "******************************************\n",
      "**********************\n",
      "Encoded String Stored In a Output File\n",
      "w4a3d1e1x6\n",
      "Decoded Back The Input String:\n",
      "wwwwaaadexxxxxx\n"
     ]
    }
   ],
   "source": [
    "#PASSING ENCODED STRING TO OUTPUT FILE AND DECODING BACK\n",
    "print('Encoded String Is:',x)\n",
    "foname=input('Enter The Output FileName In Which You Want To Store Encoded Value:\\n')\n",
    "f=open(foname, \"w\")\n",
    "f.write(x)\n",
    "f.close()\n",
    "#open and read the file after the appending:\n",
    "f = open(foname, \"r\")\n",
    "print(f.read())\n",
    "print('Inserted Encoded Value Successfully to',foname)\n",
    "f.close()\n",
    "print('********************************************************************************')\n",
    "print('******************************************')\n",
    "print('**********************')\n",
    "#Reading String From Output.txt And Printing\n",
    "with open(foname) as myfile:\n",
    "        o=\"\".join(line.rstrip() for line in myfile)\n",
    "        print('Encoded String Stored In a Output File')\n",
    "        print(o)\n",
    "print('Decoded Back The Input String:')\n",
    "print(''.join(decode(o)))"
   ]
  },
  {
   "cell_type": "markdown",
   "metadata": {},
   "source": [
    "## Q4)\n",
    "# PLOT HISTOGRAM\n",
    "### <FONT COLOR = \"PURPLE\">We have already stored the encoded value from input file before and then we have passed back to plot_hist function to plot Histogram.</FONT>"
   ]
  },
  {
   "cell_type": "code",
   "execution_count": 28,
   "metadata": {
    "scrolled": true
   },
   "outputs": [],
   "source": [
    "#FUNCTION TO PLOT HISTOGRAM\n",
    "def plot_hist(s):\n",
    "    enc_str= list(s)\n",
    "    alpha_count = Counter(enc_str)\n",
    "    df = pd.DataFrame.from_dict(alpha_count, orient='index')\n",
    "    return df.plot(kind='bar')"
   ]
  },
  {
   "cell_type": "markdown",
   "metadata": {},
   "source": [
    "# <FONT COLOR = \"black\">A Histogram is Plotted(Alphabets Vs Number).</FONT>"
   ]
  },
  {
   "cell_type": "code",
   "execution_count": 29,
   "metadata": {
    "scrolled": false
   },
   "outputs": [
    {
     "name": "stdout",
     "output_type": "stream",
     "text": [
      "Number Of Occuerences Of Each Alphabets:\n",
      "********************************************************************************\n",
      "******************************************\n",
      "**********************\n",
      "AxesSubplot(0.125,0.125;0.775x0.755)\n"
     ]
    },
    {
     "data": {
      "image/png": "[encoded data removed]",
      "text/plain": [
       "<Figure size 432x288 with 1 Axes>"
      ]
     },
     "metadata": {
      "needs_background": "light"
     },
     "output_type": "display_data"
    }
   ],
   "source": [
    "#PASSING ENCODED STRING TO PLOT_HIST FUNCTION TO DISPLAY HISTOGRAM\n",
    "#WHILE READING INPUT FILE ABOVE STRING WAS ALREADY STORED IN VARIABLE 'a'\n",
    "print(\"Number Of Occuerences Of Each Alphabets:\")\n",
    "print('********************************************************************************')\n",
    "print('******************************************')\n",
    "print('**********************')\n",
    "print(plot_hist(a))"
   ]
  }
 ],
 "metadata": {
  "kernelspec": {
   "display_name": "Python 3",
   "language": "python",
   "name": "python3"
  },
  "language_info": {
   "codemirror_mode": {
    "name": "ipython",
    "version": 3
   },
   "file_extension": ".py",
   "mimetype": "text/x-python",
   "name": "python",
   "nbconvert_exporter": "python",
   "pygments_lexer": "ipython3",
   "version": "3.7.4"
  }
 },
 "nbformat": 4,
 "nbformat_minor": 4
}
