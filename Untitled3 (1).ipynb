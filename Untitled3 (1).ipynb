{
 "cells": [
  {
   "cell_type": "code",
   "execution_count": 107,
   "metadata": {},
   "outputs": [],
   "source": [
    "import numpy as np \n",
    "import pandas as pd\n",
    "import matplotlib.pyplot as plt\n",
    "from collections import Counter"
   ]
  },
  {
   "cell_type": "code",
   "execution_count": 108,
   "metadata": {},
   "outputs": [],
   "source": [
    "def isintstr(x):\n",
    "    try: \n",
    "        float(x)\n",
    "        return True\n",
    "    except ValueError:\n",
    "        return False"
   ]
  },
  {
   "cell_type": "code",
   "execution_count": 109,
   "metadata": {},
   "outputs": [],
   "source": [
    "def check_list(L):\n",
    "    L=list(L)\n",
    "    return all((isinstance(el, str) and not isintstr(el) for el in L))"
   ]
  },
  {
   "cell_type": "code",
   "execution_count": 110,
   "metadata": {},
   "outputs": [],
   "source": [
    "def encode(s):\n",
    "    s=list(s)\n",
    "    b=list(set(s))\n",
    "    c=[s.count(i) for i in b]\n",
    "    e=''\n",
    "    for i in range(len(b)):\n",
    "        e+=b[i]+str(c[i])\n",
    "    return e"
   ]
  },
  {
   "cell_type": "code",
   "execution_count": 111,
   "metadata": {},
   "outputs": [],
   "source": [
    "def plot_hist(s):\n",
    "    enc_str= list(s)\n",
    "    alpha_count = Counter(enc_str)\n",
    "    df = pd.DataFrame.from_dict(alpha_count, orient='index')\n",
    "    \n",
    "    return df.plot(kind='bar')"
   ]
  },
  {
   "cell_type": "code",
   "execution_count": 114,
   "metadata": {},
   "outputs": [
    {
     "name": "stdin",
     "output_type": "stream",
     "text": [
      " 234567\n"
     ]
    },
    {
     "name": "stdout",
     "output_type": "stream",
     "text": [
      "Entered Element is not a String\n"
     ]
    }
   ],
   "source": [
    "a=input()\n",
    "try:\n",
    "    if(check_list(a)==True):\n",
    "        print(encode(a))\n",
    "        print(plot_hist(a))\n",
    "    else:\n",
    "        print(\"Entered Element is not a String\")\n",
    "except ValueError :\n",
    "    print('Entered Element is not a String')"
   ]
  },
  {
   "cell_type": "code",
   "execution_count": null,
   "metadata": {},
   "outputs": [],
   "source": []
  }
 ],
 "metadata": {
  "kernelspec": {
   "display_name": "Python 3",
   "language": "python",
   "name": "python3"
  },
  "language_info": {
   "codemirror_mode": {
    "name": "ipython",
    "version": 3
   },
   "file_extension": ".py",
   "mimetype": "text/x-python",
   "name": "python",
   "nbconvert_exporter": "python",
   "pygments_lexer": "ipython3",
   "version": "3.8.1"
  }
 },
 "nbformat": 4,
 "nbformat_minor": 4
}
